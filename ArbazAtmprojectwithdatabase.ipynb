{
 "cells": [
  {
   "cell_type": "code",
   "execution_count": 16,
   "id": "59a597a1-4a0c-4ba4-97c3-8e10a4ab978f",
   "metadata": {},
   "outputs": [
    {
     "name": "stdin",
     "output_type": "stream",
     "text": [
      "ENTER ACCOUNT NUMBER:  1234\n",
      "ENTER PASSWORD:  1234\n"
     ]
    },
    {
     "name": "stdout",
     "output_type": "stream",
     "text": [
      "\n",
      "LOGIN SUCCESSFUL!\n",
      "\n",
      "CHOOSE AN OPTION:\n",
      "1. CHECK CURRENT BALANCE\n",
      "2. DEPOSIT AMOUNT\n",
      "3. WITHDRAW AMOUNT\n",
      "4. EXIT\n"
     ]
    },
    {
     "name": "stdin",
     "output_type": "stream",
     "text": [
      "ENTER YOUR CHOICE:  1\n"
     ]
    },
    {
     "name": "stdout",
     "output_type": "stream",
     "text": [
      "Current Balance: 0\n",
      "\n",
      "CHOOSE AN OPTION:\n",
      "1. CHECK CURRENT BALANCE\n",
      "2. DEPOSIT AMOUNT\n",
      "3. WITHDRAW AMOUNT\n",
      "4. EXIT\n"
     ]
    },
    {
     "name": "stdin",
     "output_type": "stream",
     "text": [
      "ENTER YOUR CHOICE:  2\n",
      "ENTER AMOUNT TO DEPOSIT:  90000\n"
     ]
    },
    {
     "name": "stdout",
     "output_type": "stream",
     "text": [
      "90000 deposited successfully!\n",
      "Current Balance: 90000\n",
      "\n",
      "CHOOSE AN OPTION:\n",
      "1. CHECK CURRENT BALANCE\n",
      "2. DEPOSIT AMOUNT\n",
      "3. WITHDRAW AMOUNT\n",
      "4. EXIT\n"
     ]
    },
    {
     "name": "stdin",
     "output_type": "stream",
     "text": [
      "ENTER YOUR CHOICE:  100\n"
     ]
    },
    {
     "name": "stdout",
     "output_type": "stream",
     "text": [
      "INVALID OPTION! TRY AGAIN.\n",
      "\n",
      "CHOOSE AN OPTION:\n",
      "1. CHECK CURRENT BALANCE\n",
      "2. DEPOSIT AMOUNT\n",
      "3. WITHDRAW AMOUNT\n",
      "4. EXIT\n"
     ]
    },
    {
     "name": "stdin",
     "output_type": "stream",
     "text": [
      "ENTER YOUR CHOICE:  4\n"
     ]
    },
    {
     "name": "stdout",
     "output_type": "stream",
     "text": [
      "Thank you for using our service!\n"
     ]
    }
   ],
   "source": [
    "import mysql.connector\n",
    "\n",
    "# Database connection\n",
    "conn = mysql.connector.connect(\n",
    "    host=\"localhost\",\n",
    "    user=\"root\",\n",
    "    password=\"\",\n",
    "    database=\"arbazatm\"\n",
    ")\n",
    "cursor = conn.cursor()\n",
    "\n",
    "# Create tables if they don't exist\n",
    "create_table_query_0 = \"\"\"\n",
    "CREATE TABLE IF NOT EXISTS atm_db (\n",
    "    ACCOUNT_HOLDER_NAME VARCHAR(30),\n",
    "    ACCOUNT_NO INT PRIMARY KEY,\n",
    "    PASSWORD INT\n",
    ")\n",
    "\"\"\"\n",
    "cursor.execute(create_table_query_0)\n",
    "\n",
    "create_table_query_1 = \"\"\"\n",
    "CREATE TABLE IF NOT EXISTS transaction_db (\n",
    "    ACCOUNT_NO INT,\n",
    "    TRANSACTION_ID INT PRIMARY KEY AUTO_INCREMENT,\n",
    "    WITHDRAW_AMOUNT INT DEFAULT 0,\n",
    "    DEPOSIT_AMOUNT INT DEFAULT 0,\n",
    "    CURRENT_BALANCE INT DEFAULT 0,\n",
    "    FOREIGN KEY (ACCOUNT_NO) REFERENCES atm_db(ACCOUNT_NO)\n",
    ")\n",
    "\"\"\"\n",
    "cursor.execute(create_table_query_1)\n",
    "\n",
    "def insert_query_for_atm():\n",
    "    ACCOUNT_HOLDER_NAME = input(\"ENTER FULL NAME: \").strip()\n",
    "    ACCOUNT_NO = int(input(\"ENTER ACCOUNT NUMBER: \"))\n",
    "    PASSWORD = int(input(\"ENTER PASSWORD: \"))\n",
    "    \n",
    "    try:\n",
    "        # Insert into the atm_db table\n",
    "        insert_query = \"\"\"\n",
    "        INSERT INTO atm_db (ACCOUNT_HOLDER_NAME, ACCOUNT_NO, PASSWORD)\n",
    "        VALUES (%s, %s, %s)\n",
    "        \"\"\"\n",
    "        cursor.execute(insert_query, (ACCOUNT_HOLDER_NAME, ACCOUNT_NO, PASSWORD))\n",
    "        \n",
    "        # Initialize the transaction record for the new user in transaction_db\n",
    "        init_transaction = \"\"\"\n",
    "        INSERT INTO transaction_db (ACCOUNT_NO, CURRENT_BALANCE)\n",
    "        VALUES (%s, %s)\n",
    "        \"\"\"\n",
    "        cursor.execute(init_transaction, (ACCOUNT_NO, 0))\n",
    "        \n",
    "        conn.commit()\n",
    "        print(\"Account created successfully!\")\n",
    "    except mysql.connector.Error as err:\n",
    "        print(f\"Error: {err}\")\n",
    "\n",
    "\n",
    "# Function to check current balance\n",
    "def current_balance():\n",
    "    select_query = \"SELECT CURRENT_BALANCE FROM transaction_db WHERE ACCOUNT_NO = %s\"\n",
    "    cursor.execute(select_query, (USER,))\n",
    "    balance = cursor.fetchone()\n",
    "    if balance:\n",
    "        print(f\"Current Balance: {balance[0]}\")\n",
    "    else:\n",
    "        print(\"No account found!\")\n",
    "\n",
    "# Function to deposit an amount\n",
    "def deposit_amount():\n",
    "    deposit = int(input(\"ENTER AMOUNT TO DEPOSIT: \"))\n",
    "    if deposit <= 0:\n",
    "        print(\"Deposit amount must be positive!\")\n",
    "        return\n",
    "\n",
    "    # Update the deposit and current balance\n",
    "    update_deposit_query = \"\"\"\n",
    "    UPDATE transaction_db\n",
    "    SET DEPOSIT_AMOUNT = DEPOSIT_AMOUNT + %s, CURRENT_BALANCE = CURRENT_BALANCE + %s\n",
    "    WHERE ACCOUNT_NO = %s\n",
    "    \"\"\"\n",
    "    cursor.execute(update_deposit_query, (deposit, deposit, USER))\n",
    "    conn.commit()\n",
    "    print(f\"{deposit} deposited successfully!\")\n",
    "    current_balance()\n",
    "\n",
    "# Function to withdraw an amount\n",
    "def withdraw_amount():\n",
    "    withdraw = int(input(\"ENTER AMOUNT TO WITHDRAW: \"))\n",
    "    if withdraw <= 0:\n",
    "        print(\"Withdrawal amount must be positive!\")\n",
    "        return\n",
    "\n",
    "    # Check current balance\n",
    "    select_balance_query = \"SELECT CURRENT_BALANCE FROM transaction_db WHERE ACCOUNT_NO = %s\"\n",
    "    cursor.execute(select_balance_query, (USER,))\n",
    "    balance = cursor.fetchone()\n",
    "    if balance and balance[0] >= withdraw:\n",
    "        # Update the withdrawal and current balance\n",
    "        update_withdraw_query = \"\"\"\n",
    "        UPDATE transaction_db\n",
    "        SET WITHDRAW_AMOUNT = WITHDRAW_AMOUNT + %s, CURRENT_BALANCE = CURRENT_BALANCE - %s\n",
    "        WHERE ACCOUNT_NO = %s\n",
    "        \"\"\"\n",
    "        cursor.execute(update_withdraw_query, (withdraw, withdraw, USER))\n",
    "        conn.commit()\n",
    "        print(f\"{withdraw} withdrawn successfully!\")\n",
    "        current_balance()\n",
    "    else:\n",
    "        print(\"Insufficient balance!\")\n",
    "\n",
    "# Main program\n",
    "USER = int(input(\"ENTER ACCOUNT NUMBER: \"))\n",
    "PASSW = int(input(\"ENTER PASSWORD: \"))\n",
    "select_query = \"SELECT * FROM atm_db WHERE ACCOUNT_NO = %s AND PASSWORD = %s\"\n",
    "cursor.execute(select_query, (USER, PASSW))\n",
    "LOGIN_TRY = cursor.fetchone()\n",
    "\n",
    "if LOGIN_TRY:\n",
    "    print(\"\\nLOGIN SUCCESSFUL!\")\n",
    "    while True:\n",
    "        print(\"\\nCHOOSE AN OPTION:\\n1. CHECK CURRENT BALANCE\\n2. DEPOSIT AMOUNT\\n3. WITHDRAW AMOUNT\\n4. EXIT\")\n",
    "        choice = input(\"ENTER YOUR CHOICE: \")\n",
    "        if choice == \"1\":\n",
    "            current_balance()\n",
    "        elif choice == \"2\":\n",
    "            deposit_amount()\n",
    "        elif choice == \"3\":\n",
    "            withdraw_amount()\n",
    "        elif choice == \"4\":\n",
    "            print(\"Thank you for using our service!\")\n",
    "            break\n",
    "        else:\n",
    "            print(\"INVALID OPTION! TRY AGAIN.\")\n",
    "else:\n",
    "    print(\"INVALID ACCOUNT NUMBER OR PASSWORD!\")\n"
   ]
  },
  {
   "cell_type": "code",
   "execution_count": 15,
   "id": "fa6d939f-f108-47e0-ad55-5419adf3a054",
   "metadata": {},
   "outputs": [
    {
     "name": "stdin",
     "output_type": "stream",
     "text": [
      "ENTER FULL NAME:  Arbaz\n",
      "ENTER ACCOUNT NUMBER:  1234\n",
      "ENTER PASSWORD:  1234\n"
     ]
    },
    {
     "name": "stdout",
     "output_type": "stream",
     "text": [
      "Account created successfully!\n"
     ]
    }
   ],
   "source": [
    "insert_query_for_atm()"
   ]
  },
  {
   "cell_type": "code",
   "execution_count": null,
   "id": "06b9534e-77b0-445b-959b-2f95bf10a6c8",
   "metadata": {},
   "outputs": [],
   "source": []
  }
 ],
 "metadata": {
  "kernelspec": {
   "display_name": "Python 3 (ipykernel)",
   "language": "python",
   "name": "python3"
  },
  "language_info": {
   "codemirror_mode": {
    "name": "ipython",
    "version": 3
   },
   "file_extension": ".py",
   "mimetype": "text/x-python",
   "name": "python",
   "nbconvert_exporter": "python",
   "pygments_lexer": "ipython3",
   "version": "3.12.4"
  }
 },
 "nbformat": 4,
 "nbformat_minor": 5
}
